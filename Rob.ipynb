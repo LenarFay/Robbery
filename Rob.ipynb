{
 "cells": [
  {
   "cell_type": "code",
   "execution_count": 2,
   "id": "b5aad454",
   "metadata": {},
   "outputs": [],
   "source": [
    "import math\n",
    "\n",
    "\n",
    "def robbery(resource_list, max_load):\n",
    "    all_resources=sum(resource_list)\n",
    "    coef= max_load / all_resources\n",
    "    rob_resources_not_round, rob_resources_round,delta_resources =[],[],[]\n",
    "    for resource_index in range(len(resource_list)):  \n",
    "        rob_resources_not_round.append(coef * resource_list[resource_index])\n",
    "        rob_resources_round.append( math.floor(coef*resource_list[resource_index]))\n",
    "        delta_resources.append(rob_resources_not_round[resource_index]-rob_resources_round[resource_index])\n",
    "    load_diff=(max_load-sum(rob_resources_round))\n",
    "    for i in range(load_diff):\n",
    "        index_of_max_value, max_value = max(enumerate(delta_resources), key=lambda i_v: i_v[1])\n",
    "        rob_resources_round[index_of_max_value]+=1\n",
    "        delta_resources[index_of_max_value]=0\n",
    "    return rob_resources_round"
   ]
  },
  {
   "cell_type": "code",
   "execution_count": 3,
   "id": "99028fe3",
   "metadata": {},
   "outputs": [
    {
     "data": {
      "text/plain": [
       "[17, 53, 53]"
      ]
     },
     "execution_count": 3,
     "metadata": {},
     "output_type": "execute_result"
    }
   ],
   "source": [
    "robbery([100,300,300],123)"
   ]
  },
  {
   "cell_type": "code",
   "execution_count": 4,
   "id": "f045cfce",
   "metadata": {},
   "outputs": [
    {
     "data": {
      "text/plain": [
       "[2, 4, 4]"
      ]
     },
     "execution_count": 4,
     "metadata": {},
     "output_type": "execute_result"
    }
   ],
   "source": [
    "robbery([100,300,300],10)"
   ]
  },
  {
   "cell_type": "code",
   "execution_count": 5,
   "id": "91c0876d",
   "metadata": {},
   "outputs": [
    {
     "data": {
      "text/plain": [
       "[0, 0, 0]"
      ]
     },
     "execution_count": 5,
     "metadata": {},
     "output_type": "execute_result"
    }
   ],
   "source": [
    "robbery([100,300,300],0)"
   ]
  },
  {
   "cell_type": "code",
   "execution_count": 6,
   "id": "02107bab",
   "metadata": {},
   "outputs": [
    {
     "data": {
      "text/plain": [
       "[0, 108, 15]"
      ]
     },
     "execution_count": 6,
     "metadata": {},
     "output_type": "execute_result"
    }
   ],
   "source": [
    "robbery([0,241,34],123)"
   ]
  },
  {
   "cell_type": "code",
   "execution_count": null,
   "id": "74618c75",
   "metadata": {},
   "outputs": [],
   "source": []
  }
 ],
 "metadata": {
  "kernelspec": {
   "display_name": "Python 3",
   "language": "python",
   "name": "python3"
  },
  "language_info": {
   "codemirror_mode": {
    "name": "ipython",
    "version": 3
   },
   "file_extension": ".py",
   "mimetype": "text/x-python",
   "name": "python",
   "nbconvert_exporter": "python",
   "pygments_lexer": "ipython3",
   "version": "3.8.8"
  }
 },
 "nbformat": 4,
 "nbformat_minor": 5
}
